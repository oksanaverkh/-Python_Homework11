{
 "cells": [
  {
   "cell_type": "markdown",
   "id": "611916dd",
   "metadata": {},
   "source": [
    "Дана функция f(x) = -5*x**2 + 10*x - 150\n",
    "\n",
    "1. Определить корни\n",
    "\n",
    "2. Найти интервалы, на которых функция возрастает\n",
    "\n",
    "3. Найти интервалы, на которых функция убывает\n",
    "\n",
    "4. Построить график\n",
    "\n",
    "5. Вычислить вершину\n",
    "\n",
    "6. Определить промежутки, на котором f > 0\n",
    "\n",
    "7. Определить промежутки, на котором f < 0"
   ]
  },
  {
   "cell_type": "code",
   "execution_count": 80,
   "id": "67a661cf",
   "metadata": {},
   "outputs": [],
   "source": [
    "from sympy import *\n",
    "from sympy.plotting import plot"
   ]
  },
  {
   "cell_type": "code",
   "execution_count": 81,
   "id": "e9b80c05",
   "metadata": {},
   "outputs": [],
   "source": [
    "x = Symbol('x')"
   ]
  },
  {
   "cell_type": "code",
   "execution_count": 82,
   "id": "fc97ec72",
   "metadata": {},
   "outputs": [
    {
     "data": {
      "text/latex": [
       "$\\displaystyle - 5 x^{2} + 10 x - 150$"
      ],
      "text/plain": [
       "-5*x**2 + 10*x - 150"
      ]
     },
     "execution_count": 82,
     "metadata": {},
     "output_type": "execute_result"
    }
   ],
   "source": [
    "fx = -5*x**2 + 10*x - 150\n",
    "fx"
   ]
  },
  {
   "cell_type": "markdown",
   "id": "86ef7fd4",
   "metadata": {},
   "source": [
    "1. Определить корни"
   ]
  },
  {
   "cell_type": "code",
   "execution_count": 83,
   "id": "a9322fb1",
   "metadata": {},
   "outputs": [
    {
     "name": "stdout",
     "output_type": "stream",
     "text": [
      "Equation roots: x1 = 1.0 - 5.385*I, \n",
      "                x2 = 1.0 + 5.385*I\n"
     ]
    }
   ],
   "source": [
    "x1, x2 = solve(fx)\n",
    "print(f'''Equation roots: x1 = {round(x1.evalf(),3)}, \n",
    "                x2 = {round(x2.evalf(),3)}''')"
   ]
  },
  {
   "cell_type": "markdown",
   "id": "f97be98e",
   "metadata": {},
   "source": [
    "2. Найти интервалы, на которых функция возрастает"
   ]
  },
  {
   "cell_type": "code",
   "execution_count": 85,
   "id": "c1ff6714",
   "metadata": {},
   "outputs": [
    {
     "name": "stdout",
     "output_type": "stream",
     "text": [
      "Fucntion rises in intervals: (-oo < x) & (x < 1)\n"
     ]
    }
   ],
   "source": [
    "print(f'Fucntion rises in intervals: {solve(diff(fx)>0)}')"
   ]
  },
  {
   "cell_type": "markdown",
   "id": "23be0a1a",
   "metadata": {},
   "source": [
    "3. Найти интервалы, на которых функция убывает"
   ]
  },
  {
   "cell_type": "code",
   "execution_count": 86,
   "id": "a17c9f5b",
   "metadata": {},
   "outputs": [
    {
     "name": "stdout",
     "output_type": "stream",
     "text": [
      "Fucntion decreases in intervals: (1 < x) & (x < oo)\n"
     ]
    }
   ],
   "source": [
    "print(f'Fucntion decreases in intervals: {solve(diff(fx)<0)}')"
   ]
  },
  {
   "cell_type": "markdown",
   "id": "89ab6f4a",
   "metadata": {},
   "source": [
    "4. Построить график"
   ]
  },
  {
   "cell_type": "code",
   "execution_count": 87,
   "id": "757d579d",
   "metadata": {},
   "outputs": [
    {
     "data": {
      "image/png": "[encoded data removed]",
      "text/plain": [
       "<Figure size 640x480 with 1 Axes>"
      ]
     },
     "metadata": {},
     "output_type": "display_data"
    },
    {
     "data": {
      "text/plain": [
       "<sympy.plotting.plot.Plot at 0x1845c65e4c0>"
      ]
     },
     "execution_count": 87,
     "metadata": {},
     "output_type": "execute_result"
    }
   ],
   "source": [
    "plot(fx)"
   ]
  },
  {
   "cell_type": "markdown",
   "id": "f5b278c4",
   "metadata": {},
   "source": [
    "5. Вычислить вершину"
   ]
  },
  {
   "cell_type": "code",
   "execution_count": 88,
   "id": "d43954ce",
   "metadata": {},
   "outputs": [
    {
     "name": "stdout",
     "output_type": "stream",
     "text": [
      "Top of the function = 10 - 10*x\n"
     ]
    }
   ],
   "source": [
    "print(f'Top of the function = {diff(fx)}')"
   ]
  },
  {
   "cell_type": "markdown",
   "id": "c3ae1d90",
   "metadata": {},
   "source": [
    "6. Определить промежутки, на котором f > 0"
   ]
  },
  {
   "cell_type": "code",
   "execution_count": 89,
   "id": "b1a1b602",
   "metadata": {},
   "outputs": [
    {
     "name": "stdout",
     "output_type": "stream",
     "text": [
      "Function is never > 0\n"
     ]
    }
   ],
   "source": [
    "solve(fx>0)\n",
    "print('Function is never > 0')"
   ]
  },
  {
   "cell_type": "markdown",
   "id": "edf8f788",
   "metadata": {},
   "source": [
    "7. Определить промежутки, на котором f < 0"
   ]
  },
  {
   "cell_type": "code",
   "execution_count": 90,
   "id": "0d01ea43",
   "metadata": {},
   "outputs": [
    {
     "name": "stdout",
     "output_type": "stream",
     "text": [
      "Function > 0 in intervals: (-oo < x) & (x < oo)\n"
     ]
    }
   ],
   "source": [
    "print(f'Function > 0 in intervals: {solve(fx<0)}')"
   ]
  },
  {
   "cell_type": "code",
   "execution_count": null,
   "id": "4af58f2e",
   "metadata": {},
   "outputs": [],
   "source": []
  },
  {
   "cell_type": "code",
   "execution_count": null,
   "id": "54e633d0",
   "metadata": {},
   "outputs": [],
   "source": []
  },
  {
   "cell_type": "code",
   "execution_count": null,
   "id": "4052f42b",
   "metadata": {},
   "outputs": [],
   "source": []
  },
  {
   "cell_type": "code",
   "execution_count": null,
   "id": "435cef4b",
   "metadata": {},
   "outputs": [],
   "source": []
  },
  {
   "cell_type": "code",
   "execution_count": null,
   "id": "7439c7e5",
   "metadata": {},
   "outputs": [],
   "source": []
  },
  {
   "cell_type": "code",
   "execution_count": null,
   "id": "19c541c6",
   "metadata": {},
   "outputs": [],
   "source": []
  }
 ],
 "metadata": {
  "kernelspec": {
   "display_name": "Python 3 (ipykernel)",
   "language": "python",
   "name": "python3"
  },
  "language_info": {
   "codemirror_mode": {
    "name": "ipython",
    "version": 3
   },
   "file_extension": ".py",
   "mimetype": "text/x-python",
   "name": "python",
   "nbconvert_exporter": "python",
   "pygments_lexer": "ipython3",
   "version": "3.9.13"
  }
 },
 "nbformat": 4,
 "nbformat_minor": 5
}
